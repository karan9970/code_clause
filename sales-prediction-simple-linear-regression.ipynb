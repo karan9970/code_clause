{
 "cells": [
  {
   "cell_type": "markdown",
   "metadata": {
    "_uuid": "d98e260fd46b2018f8235d76d6b46d6e149ded86"
   },
   "source": [
    "# Sales Prediction\n",
    "## ( Simple Linear Regression)"
   ]
  },
  {
   "cell_type": "markdown",
   "metadata": {
    "_uuid": "eb75d57ef5c0c094eb265c3fb4ef77b8f8c73dce"
   },
   "source": [
    "### Problem Statement\n",
    "\n",
    "Build a model which predicts sales based on the money spent on different platforms for marketing.\n",
    "\n",
    "### Data\n",
    "Use the advertising dataset given in ISLR and analyse the relationship between 'TV advertising' and 'sales' using a simple linear regression model. \n",
    "\n",
    "In this notebook, we'll build a linear regression model to predict `Sales` using an appropriate predictor variable."
   ]
  },
  {
   "cell_type": "markdown",
   "metadata": {
    "_uuid": "fab1024005bc13658e3ef2f8a2e46971881bc3ef"
   },
   "source": [
    "## Reading and Understanding the Data"
   ]
  },
  {
   "cell_type": "code",
   "execution_count": 1,
   "metadata": {
    "_uuid": "d68008018678c65564ddda5994cb05129f3ca72b",
    "execution": {
     "iopub.execute_input": "2023-04-17T06:22:34.877216Z",
     "iopub.status.busy": "2023-04-17T06:22:34.876828Z",
     "iopub.status.idle": "2023-04-17T06:22:34.884072Z",
     "shell.execute_reply": "2023-04-17T06:22:34.882496Z",
     "shell.execute_reply.started": "2023-04-17T06:22:34.877143Z"
    }
   },
   "outputs": [],
   "source": [
    "# Supress Warnings\n",
    "\n",
    "import warnings\n",
    "warnings.filterwarnings('ignore')\n",
    "\n",
    "# importing necsassary laibrary\n",
    "\n",
    "import numpy as np\n",
    "import pandas as pd\n",
    "\n",
    "# Data Visualisation\n",
    "import matplotlib.pyplot as plt \n",
    "import seaborn as sns"
   ]
  },
  {
   "cell_type": "code",
   "execution_count": 2,
   "metadata": {
    "_uuid": "1365d38deb407ea9c0f4e93830c5f9d4d65ebd9d",
    "execution": {
     "iopub.execute_input": "2023-04-17T06:23:08.818563Z",
     "iopub.status.busy": "2023-04-17T06:23:08.817929Z",
     "iopub.status.idle": "2023-04-17T06:23:08.883044Z",
     "shell.execute_reply": "2023-04-17T06:23:08.882328Z",
     "shell.execute_reply.started": "2023-04-17T06:23:08.818510Z"
    }
   },
   "outputs": [
    {
     "data": {
      "text/html": [
       "<div>\n",
       "<style scoped>\n",
       "    .dataframe tbody tr th:only-of-type {\n",
       "        vertical-align: middle;\n",
       "    }\n",
       "\n",
       "    .dataframe tbody tr th {\n",
       "        vertical-align: top;\n",
       "    }\n",
       "\n",
       "    .dataframe thead th {\n",
       "        text-align: right;\n",
       "    }\n",
       "</style>\n",
       "<table border=\"1\" class=\"dataframe\">\n",
       "  <thead>\n",
       "    <tr style=\"text-align: right;\">\n",
       "      <th></th>\n",
       "      <th>TV</th>\n",
       "      <th>Radio</th>\n",
       "      <th>Newspaper</th>\n",
       "      <th>Sales</th>\n",
       "    </tr>\n",
       "  </thead>\n",
       "  <tbody>\n",
       "    <tr>\n",
       "      <th>0</th>\n",
       "      <td>230.1</td>\n",
       "      <td>37.8</td>\n",
       "      <td>69.2</td>\n",
       "      <td>22.1</td>\n",
       "    </tr>\n",
       "    <tr>\n",
       "      <th>1</th>\n",
       "      <td>44.5</td>\n",
       "      <td>39.3</td>\n",
       "      <td>45.1</td>\n",
       "      <td>10.4</td>\n",
       "    </tr>\n",
       "    <tr>\n",
       "      <th>2</th>\n",
       "      <td>17.2</td>\n",
       "      <td>45.9</td>\n",
       "      <td>69.3</td>\n",
       "      <td>12.0</td>\n",
       "    </tr>\n",
       "    <tr>\n",
       "      <th>3</th>\n",
       "      <td>151.5</td>\n",
       "      <td>41.3</td>\n",
       "      <td>58.5</td>\n",
       "      <td>16.5</td>\n",
       "    </tr>\n",
       "    <tr>\n",
       "      <th>4</th>\n",
       "      <td>180.8</td>\n",
       "      <td>10.8</td>\n",
       "      <td>58.4</td>\n",
       "      <td>17.9</td>\n",
       "    </tr>\n",
       "  </tbody>\n",
       "</table>\n",
       "</div>"
      ],
      "text/plain": [
       "      TV  Radio  Newspaper  Sales\n",
       "0  230.1   37.8       69.2   22.1\n",
       "1   44.5   39.3       45.1   10.4\n",
       "2   17.2   45.9       69.3   12.0\n",
       "3  151.5   41.3       58.5   16.5\n",
       "4  180.8   10.8       58.4   17.9"
      ]
     },
     "execution_count": 2,
     "metadata": {},
     "output_type": "execute_result"
    }
   ],
   "source": [
    "kiran = pd.DataFrame(pd.read_csv(\"../input/advertising.csv\"))\n",
    "kiran.head()"
   ]
  },
  {
   "cell_type": "markdown",
   "metadata": {
    "_uuid": "39753c6695c9c1fb90e9d0bbbba0bf8c09b600c2"
   },
   "source": [
    "## Data Inspection"
   ]
  },
  {
   "cell_type": "code",
   "execution_count": 3,
   "metadata": {
    "_uuid": "4f36948806d235d179b1a5c6b6c990a41afc6e4a",
    "execution": {
     "iopub.execute_input": "2023-04-17T06:23:28.658062Z",
     "iopub.status.busy": "2023-04-17T06:23:28.657580Z",
     "iopub.status.idle": "2023-04-17T06:23:28.664097Z",
     "shell.execute_reply": "2023-04-17T06:23:28.662967Z",
     "shell.execute_reply.started": "2023-04-17T06:23:28.658018Z"
    },
    "scrolled": true
   },
   "outputs": [
    {
     "data": {
      "text/plain": [
       "(200, 4)"
      ]
     },
     "execution_count": 3,
     "metadata": {},
     "output_type": "execute_result"
    }
   ],
   "source": [
    "kiran.shape"
   ]
  },
  {
   "cell_type": "code",
   "execution_count": 4,
   "metadata": {
    "execution": {
     "iopub.execute_input": "2023-04-17T06:23:52.638841Z",
     "iopub.status.busy": "2023-04-17T06:23:52.638006Z",
     "iopub.status.idle": "2023-04-17T06:23:52.645855Z",
     "shell.execute_reply": "2023-04-17T06:23:52.644763Z",
     "shell.execute_reply.started": "2023-04-17T06:23:52.638764Z"
    }
   },
   "outputs": [
    {
     "data": {
      "text/plain": [
       "800"
      ]
     },
     "execution_count": 4,
     "metadata": {},
     "output_type": "execute_result"
    }
   ],
   "source": [
    "kiran.size"
   ]
  },
  {
   "cell_type": "code",
   "execution_count": 5,
   "metadata": {
    "_uuid": "9578033b7d507aa4d901b48de36931066cc00241",
    "execution": {
     "iopub.execute_input": "2023-04-17T06:23:36.224479Z",
     "iopub.status.busy": "2023-04-17T06:23:36.223773Z",
     "iopub.status.idle": "2023-04-17T06:23:36.235672Z",
     "shell.execute_reply": "2023-04-17T06:23:36.234572Z",
     "shell.execute_reply.started": "2023-04-17T06:23:36.224397Z"
    }
   },
   "outputs": [
    {
     "name": "stdout",
     "output_type": "stream",
     "text": [
      "<class 'pandas.core.frame.DataFrame'>\n",
      "RangeIndex: 200 entries, 0 to 199\n",
      "Data columns (total 4 columns):\n",
      "TV           200 non-null float64\n",
      "Radio        200 non-null float64\n",
      "Newspaper    200 non-null float64\n",
      "Sales        200 non-null float64\n",
      "dtypes: float64(4)\n",
      "memory usage: 6.3 KB\n"
     ]
    }
   ],
   "source": [
    "kiran.info()"
   ]
  },
  {
   "cell_type": "code",
   "execution_count": 6,
   "metadata": {
    "_uuid": "b817b9601c376627448453b03d79bf8f9dd02eac",
    "execution": {
     "iopub.execute_input": "2023-04-17T06:24:13.131792Z",
     "iopub.status.busy": "2023-04-17T06:24:13.131466Z",
     "iopub.status.idle": "2023-04-17T06:24:13.171917Z",
     "shell.execute_reply": "2023-04-17T06:24:13.171023Z",
     "shell.execute_reply.started": "2023-04-17T06:24:13.131742Z"
    }
   },
   "outputs": [
    {
     "data": {
      "text/html": [
       "<div>\n",
       "<style scoped>\n",
       "    .dataframe tbody tr th:only-of-type {\n",
       "        vertical-align: middle;\n",
       "    }\n",
       "\n",
       "    .dataframe tbody tr th {\n",
       "        vertical-align: top;\n",
       "    }\n",
       "\n",
       "    .dataframe thead th {\n",
       "        text-align: right;\n",
       "    }\n",
       "</style>\n",
       "<table border=\"1\" class=\"dataframe\">\n",
       "  <thead>\n",
       "    <tr style=\"text-align: right;\">\n",
       "      <th></th>\n",
       "      <th>TV</th>\n",
       "      <th>Radio</th>\n",
       "      <th>Newspaper</th>\n",
       "      <th>Sales</th>\n",
       "    </tr>\n",
       "  </thead>\n",
       "  <tbody>\n",
       "    <tr>\n",
       "      <th>count</th>\n",
       "      <td>200.000000</td>\n",
       "      <td>200.000000</td>\n",
       "      <td>200.000000</td>\n",
       "      <td>200.000000</td>\n",
       "    </tr>\n",
       "    <tr>\n",
       "      <th>mean</th>\n",
       "      <td>147.042500</td>\n",
       "      <td>23.264000</td>\n",
       "      <td>30.554000</td>\n",
       "      <td>15.130500</td>\n",
       "    </tr>\n",
       "    <tr>\n",
       "      <th>std</th>\n",
       "      <td>85.854236</td>\n",
       "      <td>14.846809</td>\n",
       "      <td>21.778621</td>\n",
       "      <td>5.283892</td>\n",
       "    </tr>\n",
       "    <tr>\n",
       "      <th>min</th>\n",
       "      <td>0.700000</td>\n",
       "      <td>0.000000</td>\n",
       "      <td>0.300000</td>\n",
       "      <td>1.600000</td>\n",
       "    </tr>\n",
       "    <tr>\n",
       "      <th>25%</th>\n",
       "      <td>74.375000</td>\n",
       "      <td>9.975000</td>\n",
       "      <td>12.750000</td>\n",
       "      <td>11.000000</td>\n",
       "    </tr>\n",
       "    <tr>\n",
       "      <th>50%</th>\n",
       "      <td>149.750000</td>\n",
       "      <td>22.900000</td>\n",
       "      <td>25.750000</td>\n",
       "      <td>16.000000</td>\n",
       "    </tr>\n",
       "    <tr>\n",
       "      <th>75%</th>\n",
       "      <td>218.825000</td>\n",
       "      <td>36.525000</td>\n",
       "      <td>45.100000</td>\n",
       "      <td>19.050000</td>\n",
       "    </tr>\n",
       "    <tr>\n",
       "      <th>max</th>\n",
       "      <td>296.400000</td>\n",
       "      <td>49.600000</td>\n",
       "      <td>114.000000</td>\n",
       "      <td>27.000000</td>\n",
       "    </tr>\n",
       "  </tbody>\n",
       "</table>\n",
       "</div>"
      ],
      "text/plain": [
       "               TV       Radio   Newspaper       Sales\n",
       "count  200.000000  200.000000  200.000000  200.000000\n",
       "mean   147.042500   23.264000   30.554000   15.130500\n",
       "std     85.854236   14.846809   21.778621    5.283892\n",
       "min      0.700000    0.000000    0.300000    1.600000\n",
       "25%     74.375000    9.975000   12.750000   11.000000\n",
       "50%    149.750000   22.900000   25.750000   16.000000\n",
       "75%    218.825000   36.525000   45.100000   19.050000\n",
       "max    296.400000   49.600000  114.000000   27.000000"
      ]
     },
     "execution_count": 6,
     "metadata": {},
     "output_type": "execute_result"
    }
   ],
   "source": [
    "kiran.describe()"
   ]
  },
  {
   "cell_type": "markdown",
   "metadata": {
    "_uuid": "fab7463f8ed5eb55f1357db16c69204351295edf"
   },
   "source": [
    "## Data Cleaning"
   ]
  },
  {
   "cell_type": "code",
   "execution_count": 7,
   "metadata": {
    "_uuid": "cf9580e58b78c0558d96f54272701b6d2d32a018",
    "execution": {
     "iopub.execute_input": "2023-04-17T06:25:07.013960Z",
     "iopub.status.busy": "2023-04-17T06:25:07.013479Z",
     "iopub.status.idle": "2023-04-17T06:25:07.022167Z",
     "shell.execute_reply": "2023-04-17T06:25:07.021094Z",
     "shell.execute_reply.started": "2023-04-17T06:25:07.013913Z"
    }
   },
   "outputs": [
    {
     "data": {
      "text/plain": [
       "TV           0\n",
       "Radio        0\n",
       "Newspaper    0\n",
       "Sales        0\n",
       "dtype: int64"
      ]
     },
     "execution_count": 7,
     "metadata": {},
     "output_type": "execute_result"
    }
   ],
   "source": [
    "# Checking Null values\n",
    "kiran.isnull().sum()\n",
    "# There are no NULL values in the dataset, hence it is clean."
   ]
  },
  {
   "cell_type": "code",
   "execution_count": 8,
   "metadata": {
    "_uuid": "c427a8e8a84e617eccdeda7df5eccd25f740f25d",
    "execution": {
     "iopub.execute_input": "2023-04-17T06:26:56.101673Z",
     "iopub.status.busy": "2023-04-17T06:26:56.101270Z",
     "iopub.status.idle": "2023-04-17T06:26:56.718282Z",
     "shell.execute_reply": "2023-04-17T06:26:56.716920Z",
     "shell.execute_reply.started": "2023-04-17T06:26:56.101596Z"
    }
   },
   "outputs": [
    {
     "data": {
      "image/png": "[encoded data removed]",
      "text/plain": [
       "<Figure size 360x360 with 3 Axes>"
      ]
     },
     "metadata": {},
     "output_type": "display_data"
    }
   ],
   "source": [
    "# Outlier Analysis\n",
    "fig, axs = plt.subplots(3, figsize = (5,5))\n",
    "plt1 = sns.boxplot(kiran['TV'], ax = axs[0])\n",
    "plt2 = sns.boxplot(kiran['Newspaper'], ax = axs[1])\n",
    "plt3 = sns.boxplot(kiran['Radio'], ax = axs[2])\n",
    "plt.tight_layout()"
   ]
  },
  {
   "cell_type": "code",
   "execution_count": 9,
   "metadata": {
    "_uuid": "3f18bb0cc6014b12746f45ea30a7b769a59ad1a4"
   },
   "outputs": [],
   "source": [
    "# There are no considerable outliers present in the data."
   ]
  },
  {
   "cell_type": "markdown",
   "metadata": {
    "_uuid": "81898c048d2b70a32615965535f9b7a6fdc626ae"
   },
   "source": [
    "## Exploratory Data Analysis"
   ]
  },
  {
   "cell_type": "markdown",
   "metadata": {
    "_uuid": "d2ac5e56f61c3c9517621ad569068bbdcd65b8dd"
   },
   "source": [
    "### Univariate Analysis"
   ]
  },
  {
   "cell_type": "markdown",
   "metadata": {
    "_uuid": "7ebb232846d9ae796b258eb26642ef73ca2dcacc"
   },
   "source": [
    "#### Sales (Target Variable)"
   ]
  },
  {
   "cell_type": "code",
   "execution_count": 10,
   "metadata": {
    "_uuid": "d435bd318677f7a4234bf02efdf54aa19e8b2c16",
    "execution": {
     "iopub.execute_input": "2023-04-17T06:27:57.419337Z",
     "iopub.status.busy": "2023-04-17T06:27:57.418599Z",
     "iopub.status.idle": "2023-04-17T06:27:57.604630Z",
     "shell.execute_reply": "2023-04-17T06:27:57.603320Z",
     "shell.execute_reply.started": "2023-04-17T06:27:57.419273Z"
    }
   },
   "outputs": [
    {
     "data": {
      "image/png": "[encoded data removed]",
      "text/plain": [
       "<Figure size 432x288 with 1 Axes>"
      ]
     },
     "metadata": {},
     "output_type": "display_data"
    }
   ],
   "source": [
    "sns.boxplot(kiran['Sales'])\n",
    "plt.show()"
   ]
  },
  {
   "cell_type": "markdown",
   "metadata": {},
   "source": [
    "* no outlier in target varible"
   ]
  },
  {
   "cell_type": "code",
   "execution_count": 11,
   "metadata": {
    "_uuid": "2d6f716ebe182a58f9941c059256a09cc7f03703",
    "execution": {
     "iopub.execute_input": "2023-04-17T06:29:15.501006Z",
     "iopub.status.busy": "2023-04-17T06:29:15.500628Z",
     "iopub.status.idle": "2023-04-17T06:29:16.238767Z",
     "shell.execute_reply": "2023-04-17T06:29:16.237054Z",
     "shell.execute_reply.started": "2023-04-17T06:29:15.500953Z"
    }
   },
   "outputs": [
    {
     "data": {
      "image/png": "[encoded data removed]",
      "text/plain": [
       "<Figure size 864x288 with 3 Axes>"
      ]
     },
     "metadata": {},
     "output_type": "display_data"
    }
   ],
   "source": [
    "# Let's see how Sales are related with other variables using scatter plot.\n",
    "\n",
    "\n",
    "sns.pairplot(kiran, x_vars=['TV', 'Newspaper', 'Radio'], y_vars='Sales', height=4, aspect=1, kind='scatter')\n",
    "plt.show()"
   ]
  },
  {
   "cell_type": "code",
   "execution_count": 12,
   "metadata": {
    "_uuid": "ea27ea99e47d578866a706f437d74a8fe1ad2264",
    "execution": {
     "iopub.execute_input": "2023-04-17T06:30:04.484303Z",
     "iopub.status.busy": "2023-04-17T06:30:04.483953Z",
     "iopub.status.idle": "2023-04-17T06:30:04.902773Z",
     "shell.execute_reply": "2023-04-17T06:30:04.900669Z",
     "shell.execute_reply.started": "2023-04-17T06:30:04.484261Z"
    }
   },
   "outputs": [
    {
     "data": {
      "image/png": "[encoded data removed]",
      "text/plain": [
       "<Figure size 432x288 with 2 Axes>"
      ]
     },
     "metadata": {},
     "output_type": "display_data"
    }
   ],
   "source": [
    "# Let's see the correlation between different variables.\n",
    "sns.heatmap(kiran.corr(), cmap=\"YlGnBu\", annot = True)\n",
    "plt.show()"
   ]
  },
  {
   "cell_type": "markdown",
   "metadata": {
    "_uuid": "de3f5b90d0b6165958efcf1a31b80141867987fe"
   },
   "source": [
    "#### from the scatterplot and the heatmap,we can observe that 'sales' and 'tv' have a higher correlation as compared to other.\n",
    "\n",
    "#### and also see 'sales' and 'newspaper'have a lower correaltion as compared to other.."
   ]
  },
  {
   "cell_type": "markdown",
   "metadata": {
    "_uuid": "1c10d5d48b611a9c66e1c99e66c44f6b36191a92"
   },
   "source": [
    "## Model Building"
   ]
  },
  {
   "cell_type": "markdown",
   "metadata": {},
   "source": [
    "#### As the \"tv\" and \"sales\" have a higher correaltion we will perform the simple linear regression for these variables"
   ]
  },
  {
   "cell_type": "markdown",
   "metadata": {
    "_uuid": "6d593021918853ea7402f5efa6348425481dd538"
   },
   "source": [
    "### Performing Simple Linear Regression"
   ]
  },
  {
   "cell_type": "markdown",
   "metadata": {
    "_uuid": "596550475e9050e4413572b184f66ddf74764878"
   },
   "source": [
    "Equation of linear regression<br>\n",
    "y=Mx+c\n",
    "\n",
    "-  $y$ is the response\n",
    "-  $c$ is the intercept\n",
    "-  $m$ is the slop\n",
    "-  $x$ is input features\n",
    "\n",
    "In our case:\n",
    "\n",
    "$y = c + m_1 \\times TV$\n",
    "\n",
    "The $m$ values are called the model **coefficients** or **model parameters**.\n",
    "\n",
    "---"
   ]
  },
  {
   "cell_type": "markdown",
   "metadata": {
    "_uuid": "fe62b625cb69b757c37930b85ffc1b4b4805f4ca"
   },
   "source": [
    "##### assign the features varible \n",
    "\n",
    "* 'tv' input varible('x')\n",
    "\n",
    "* 'sales' ouput/target varible ('y')\n"
   ]
  },
  {
   "cell_type": "code",
   "execution_count": 13,
   "metadata": {
    "_uuid": "ae7285c79fd678fad0ee4fb18f8923daf024838b",
    "execution": {
     "iopub.execute_input": "2023-04-17T06:45:17.044248Z",
     "iopub.status.busy": "2023-04-17T06:45:17.043878Z",
     "iopub.status.idle": "2023-04-17T06:45:17.049199Z",
     "shell.execute_reply": "2023-04-17T06:45:17.047951Z",
     "shell.execute_reply.started": "2023-04-17T06:45:17.044196Z"
    }
   },
   "outputs": [],
   "source": [
    "x = kiran['TV']\n",
    "y = kiran['Sales']"
   ]
  },
  {
   "cell_type": "markdown",
   "metadata": {
    "_uuid": "b3d9b88574b3b83dd47e7e0425c8e627443c4ec3"
   },
   "source": [
    "#### Train-Test Split\n",
    "\n",
    "You now need to split our variable into training and testing sets. You'll perform this by importing `train_test_split` from the `sklearn.model_selection` library. It is usually a good practice to keep 70% of the data in your train dataset and the rest 30% in your test dataset"
   ]
  },
  {
   "cell_type": "code",
   "execution_count": 14,
   "metadata": {
    "execution": {
     "iopub.execute_input": "2023-04-17T06:45:20.916894Z",
     "iopub.status.busy": "2023-04-17T06:45:20.916510Z",
     "iopub.status.idle": "2023-04-17T06:45:20.925660Z",
     "shell.execute_reply": "2023-04-17T06:45:20.924754Z",
     "shell.execute_reply.started": "2023-04-17T06:45:20.916820Z"
    }
   },
   "outputs": [],
   "source": [
    "from sklearn.model_selection import train_test_split\n",
    "x_train,x_test,y_train,y_test=train_test_split(x,y,train_size=0.70,test_size=0.30,random_state=1000)"
   ]
  },
  {
   "cell_type": "code",
   "execution_count": 15,
   "metadata": {
    "_uuid": "07e568ebfdb6c838568e2df3dfd5fd0acadc7184",
    "execution": {
     "iopub.execute_input": "2023-04-17T06:45:38.226761Z",
     "iopub.status.busy": "2023-04-17T06:45:38.226083Z",
     "iopub.status.idle": "2023-04-17T06:45:38.234558Z",
     "shell.execute_reply": "2023-04-17T06:45:38.233383Z",
     "shell.execute_reply.started": "2023-04-17T06:45:38.226377Z"
    }
   },
   "outputs": [
    {
     "data": {
      "text/plain": [
       "44      25.1\n",
       "101    296.4\n",
       "25     262.9\n",
       "3      151.5\n",
       "68     237.4\n",
       "Name: TV, dtype: float64"
      ]
     },
     "execution_count": 15,
     "metadata": {},
     "output_type": "execute_result"
    }
   ],
   "source": [
    "# Let's now take a look at the train dataset\n",
    "\n",
    "x_train.head()"
   ]
  },
  {
   "cell_type": "code",
   "execution_count": 16,
   "metadata": {
    "_uuid": "873156cc1e983a63bfea8b5947bfb91e6992a7f5",
    "execution": {
     "iopub.execute_input": "2023-04-17T06:45:48.551626Z",
     "iopub.status.busy": "2023-04-17T06:45:48.551064Z",
     "iopub.status.idle": "2023-04-17T06:45:48.560409Z",
     "shell.execute_reply": "2023-04-17T06:45:48.559042Z",
     "shell.execute_reply.started": "2023-04-17T06:45:48.551551Z"
    }
   },
   "outputs": [
    {
     "data": {
      "text/plain": [
       "44      8.5\n",
       "101    23.8\n",
       "25     17.0\n",
       "3      16.5\n",
       "68     18.9\n",
       "Name: Sales, dtype: float64"
      ]
     },
     "execution_count": 16,
     "metadata": {},
     "output_type": "execute_result"
    }
   ],
   "source": [
    "y_train.head()"
   ]
  },
  {
   "cell_type": "markdown",
   "metadata": {
    "_uuid": "a53ec07eb3235dca5ca72cc9c2f6ca0634a33a09"
   },
   "source": [
    "#### Building a Linear Model\n",
    "\n",
    "You first need to import the `statsmodel.api` library using which you'll perform the linear regression."
   ]
  },
  {
   "cell_type": "code",
   "execution_count": 17,
   "metadata": {
    "_uuid": "226e3704ff6b78a47273fd816009f9c30b8f0a81",
    "execution": {
     "iopub.execute_input": "2023-04-17T06:46:36.018691Z",
     "iopub.status.busy": "2023-04-17T06:46:36.018169Z",
     "iopub.status.idle": "2023-04-17T06:46:36.565308Z",
     "shell.execute_reply": "2023-04-17T06:46:36.564585Z",
     "shell.execute_reply.started": "2023-04-17T06:46:36.018585Z"
    }
   },
   "outputs": [],
   "source": [
    "import statsmodels.api as sm"
   ]
  },
  {
   "cell_type": "markdown",
   "metadata": {
    "_uuid": "7aace406b025306a7ba85016b8bd48ae662d1ec1"
   },
   "source": [
    "By default, the `statsmodels` library fits a line on the dataset which passes through the origin. But in order to have an intercept, you need to manually use the `add_constant` attribute of `statsmodels`. And once you've added the constant to your `X_train` dataset, you can go ahead and fit a regression line using the `OLS` (Ordinary Least Squares) attribute of `statsmodels` as shown below"
   ]
  },
  {
   "cell_type": "code",
   "execution_count": 18,
   "metadata": {
    "_uuid": "b80a766082e6c9c40c3f09499fec4cfc51f62763",
    "execution": {
     "iopub.execute_input": "2023-04-17T06:47:22.811231Z",
     "iopub.status.busy": "2023-04-17T06:47:22.810912Z",
     "iopub.status.idle": "2023-04-17T06:47:22.833884Z",
     "shell.execute_reply": "2023-04-17T06:47:22.832814Z",
     "shell.execute_reply.started": "2023-04-17T06:47:22.811180Z"
    }
   },
   "outputs": [],
   "source": [
    "# Add a constant to get an intercept\n",
    "x_train_sm = sm.add_constant(x_train)\n",
    "\n",
    "# Fit the resgression line using 'OLS'\n",
    "lr = sm.OLS(y_train, x_train_sm).fit()"
   ]
  },
  {
   "cell_type": "code",
   "execution_count": 19,
   "metadata": {
    "_uuid": "fd4287b550d2f05555ae3e18d6f497912424f8cf",
    "execution": {
     "iopub.execute_input": "2023-04-17T06:47:27.455742Z",
     "iopub.status.busy": "2023-04-17T06:47:27.455154Z",
     "iopub.status.idle": "2023-04-17T06:47:27.464078Z",
     "shell.execute_reply": "2023-04-17T06:47:27.463068Z",
     "shell.execute_reply.started": "2023-04-17T06:47:27.455482Z"
    }
   },
   "outputs": [
    {
     "data": {
      "text/plain": [
       "const    6.888784\n",
       "TV       0.056939\n",
       "dtype: float64"
      ]
     },
     "execution_count": 19,
     "metadata": {},
     "output_type": "execute_result"
    }
   ],
   "source": [
    "# Print the parameters, i.e. the intercept and the slope of the regression line fitted\n",
    "lr.params"
   ]
  },
  {
   "cell_type": "code",
   "execution_count": 20,
   "metadata": {
    "_uuid": "f841995801587a25a9b4c4b77ef396e538e9ad1f",
    "execution": {
     "iopub.execute_input": "2023-04-17T06:48:02.400994Z",
     "iopub.status.busy": "2023-04-17T06:48:02.400598Z",
     "iopub.status.idle": "2023-04-17T06:48:02.422831Z",
     "shell.execute_reply": "2023-04-17T06:48:02.421931Z",
     "shell.execute_reply.started": "2023-04-17T06:48:02.400924Z"
    }
   },
   "outputs": [
    {
     "name": "stdout",
     "output_type": "stream",
     "text": [
      "                            OLS Regression Results                            \n",
      "==============================================================================\n",
      "Dep. Variable:                  Sales   R-squared:                       0.814\n",
      "Model:                            OLS   Adj. R-squared:                  0.812\n",
      "Method:                 Least Squares   F-statistic:                     603.0\n",
      "Date:                Mon, 17 Apr 2023   Prob (F-statistic):           3.24e-52\n",
      "Time:                        06:53:00   Log-Likelihood:                -316.45\n",
      "No. Observations:                 140   AIC:                             636.9\n",
      "Df Residuals:                     138   BIC:                             642.8\n",
      "Df Model:                           1                                         \n",
      "Covariance Type:            nonrobust                                         \n",
      "==============================================================================\n",
      "                 coef    std err          t      P>|t|      [0.025      0.975]\n",
      "------------------------------------------------------------------------------\n",
      "const          6.8888      0.403     17.087      0.000       6.092       7.686\n",
      "TV             0.0569      0.002     24.555      0.000       0.052       0.062\n",
      "==============================================================================\n",
      "Omnibus:                        0.117   Durbin-Watson:                   2.443\n",
      "Prob(Omnibus):                  0.943   Jarque-Bera (JB):                0.055\n",
      "Skew:                          -0.048   Prob(JB):                        0.973\n",
      "Kurtosis:                       2.985   Cond. No.                         355.\n",
      "==============================================================================\n",
      "\n",
      "Warnings:\n",
      "[1] Standard Errors assume that the covariance matrix of the errors is correctly specified.\n"
     ]
    }
   ],
   "source": [
    "# Performing a summary operation lists out all the different parameters of the regression line fitted\n",
    "print(lr.summary())"
   ]
  },
  {
   "cell_type": "markdown",
   "metadata": {
    "_uuid": "b4184f39c773af135644179ad6f86e9e75c3d7d5"
   },
   "source": [
    "####  Looking at some key statistics from the summary"
   ]
  },
  {
   "cell_type": "markdown",
   "metadata": {
    "_uuid": "2eb6f1c6f44cf4b216aaf184ef64be7358c12bb7"
   },
   "source": [
    "The values we are concerned with are - \n",
    "1. The coefficients and significance (p-values)\n",
    "2. R-squared\n",
    "3. F statistic and its significance"
   ]
  },
  {
   "cell_type": "markdown",
   "metadata": {
    "_uuid": "5c4fab83c0633fef6b7d7c164056f58e7bf6fedf"
   },
   "source": [
    "##### 1. The coefficient for TV is 0.054, with a very low p value\n",
    "The coefficient is statistically significant. So the association is not purely by chance. "
   ]
  },
  {
   "cell_type": "markdown",
   "metadata": {
    "_uuid": "78f7b40f9e278a5261b382665b3e953524aeced3"
   },
   "source": [
    "##### 2. R - squared is 0.816\n",
    "Meaning that 81.6% of the variance in `Sales` is explained by `TV`\n",
    "\n",
    "This is a decent R-squared value."
   ]
  },
  {
   "cell_type": "markdown",
   "metadata": {
    "_uuid": "6f0cc01ea96a792ef1c9e369a67f5cf4949cda42"
   },
   "source": [
    "###### 3. F statistic has a very low p value (practically low)\n",
    "Meaning that the model fit is statistically significant, and the explained variance isn't purely by chance."
   ]
  },
  {
   "cell_type": "markdown",
   "metadata": {
    "_uuid": "355241eda62e0f3fb9b843256640d56ab6bf7fd1"
   },
   "source": [
    "---\n",
    "The fit is significant. Let's visualize how well the model fit the data.\n",
    "\n",
    "From the parameters that we get, our linear regression equation becomes:\n",
    "\n",
    "$ Sales = 6.948 + 0.054 \\times TV $"
   ]
  },
  {
   "cell_type": "code",
   "execution_count": 21,
   "metadata": {
    "_uuid": "6e0dc97a88b9fc1d4e975c2fe511e59bd0cd2b8a",
    "execution": {
     "iopub.execute_input": "2023-04-17T06:49:13.631604Z",
     "iopub.status.busy": "2023-04-17T06:49:13.631243Z",
     "iopub.status.idle": "2023-04-17T06:49:13.901391Z",
     "shell.execute_reply": "2023-04-17T06:49:13.899929Z",
     "shell.execute_reply.started": "2023-04-17T06:49:13.631548Z"
    },
    "scrolled": true
   },
   "outputs": [
    {
     "data": {
      "image/png": "[encoded data removed]",
      "text/plain": [
       "<Figure size 432x288 with 1 Axes>"
      ]
     },
     "metadata": {},
     "output_type": "display_data"
    }
   ],
   "source": [
    "plt.scatter(x_train, y_train)\n",
    "plt.plot(x_train, 6.948 + 0.054*x_train, 'r')\n",
    "plt.show()"
   ]
  },
  {
   "cell_type": "markdown",
   "metadata": {
    "_uuid": "b0127acdc8615bb40259e313f1d91e263091ce5c"
   },
   "source": [
    "## Model Evaluation"
   ]
  },
  {
   "cell_type": "markdown",
   "metadata": {
    "_uuid": "422b3bc53bfd16e1583f66456a3997a53e60d4d7"
   },
   "source": [
    "### Residual analysis \n",
    "To validate assumptions of the model, and hence the reliability for inference"
   ]
  },
  {
   "cell_type": "markdown",
   "metadata": {
    "_uuid": "90fd70d36d73f8756d85b91132b7783fca68de51"
   },
   "source": [
    "#### Distribution of the error terms\n",
    "We need to check if the error terms are also normally distributed (which is infact, one of the major assumptions of linear regression), let us plot the histogram of the error terms and see what it looks like."
   ]
  },
  {
   "cell_type": "code",
   "execution_count": 22,
   "metadata": {
    "_uuid": "4dd8f2238cf72ced822605fc50ceedc3451ef5af",
    "execution": {
     "iopub.execute_input": "2023-04-17T06:49:38.765031Z",
     "iopub.status.busy": "2023-04-17T06:49:38.764630Z",
     "iopub.status.idle": "2023-04-17T06:49:38.770012Z",
     "shell.execute_reply": "2023-04-17T06:49:38.768779Z",
     "shell.execute_reply.started": "2023-04-17T06:49:38.764957Z"
    }
   },
   "outputs": [],
   "source": [
    "y_train_pred = lr.predict(x_train_sm)\n",
    "res = (y_train - y_train_pred)"
   ]
  },
  {
   "cell_type": "code",
   "execution_count": 23,
   "metadata": {
    "_uuid": "14e47df1dd16feb210ba45abe9bd16e583dacd88",
    "execution": {
     "iopub.execute_input": "2023-04-17T06:49:48.312803Z",
     "iopub.status.busy": "2023-04-17T06:49:48.312162Z",
     "iopub.status.idle": "2023-04-17T06:49:48.637360Z",
     "shell.execute_reply": "2023-04-17T06:49:48.636040Z",
     "shell.execute_reply.started": "2023-04-17T06:49:48.312434Z"
    },
    "scrolled": true
   },
   "outputs": [
    {
     "data": {
      "image/png": "[encoded data removed]",
      "text/plain": [
       "<Figure size 432x288 with 1 Axes>"
      ]
     },
     "metadata": {},
     "output_type": "display_data"
    }
   ],
   "source": [
    "fig = plt.figure()\n",
    "sns.distplot(res, bins = 15)\n",
    "fig.suptitle('Error Terms', fontsize = 15)                  # Plot heading \n",
    "plt.xlabel('y_train - y_train_pred', fontsize = 15)         # X-label\n",
    "plt.show()"
   ]
  },
  {
   "cell_type": "markdown",
   "metadata": {
    "_uuid": "e4ee1c8edba5205ff0fb2d282f3cb04d3578d40e"
   },
   "source": [
    "The residuals are following the normally distributed with a mean 0. All good!"
   ]
  },
  {
   "cell_type": "markdown",
   "metadata": {
    "_uuid": "21220e799147c77afe520b1eaf29664fca414fb5"
   },
   "source": [
    "#### Looking for patterns in the residuals"
   ]
  },
  {
   "cell_type": "code",
   "execution_count": 24,
   "metadata": {
    "_uuid": "9273cbc44826c16c959a63707862371c9ff4301d",
    "execution": {
     "iopub.execute_input": "2023-04-17T06:50:06.891674Z",
     "iopub.status.busy": "2023-04-17T06:50:06.891026Z",
     "iopub.status.idle": "2023-04-17T06:50:07.159321Z",
     "shell.execute_reply": "2023-04-17T06:50:07.157920Z",
     "shell.execute_reply.started": "2023-04-17T06:50:06.891589Z"
    }
   },
   "outputs": [
    {
     "data": {
      "image/png": "[encoded data removed]",
      "text/plain": [
       "<Figure size 432x288 with 1 Axes>"
      ]
     },
     "metadata": {},
     "output_type": "display_data"
    }
   ],
   "source": [
    "plt.scatter(x_train,res)\n",
    "plt.show()"
   ]
  },
  {
   "cell_type": "markdown",
   "metadata": {
    "_uuid": "6b9b369334a8ce91ef15c05de37b463b2df53fd1"
   },
   "source": [
    "We are confident that the model fit isn't by chance, and has decent predictive power. The normality of residual terms allows some inference on the coefficients.\n",
    "\n",
    "Although, the variance of residuals increasing with X indicates that there is significant variation that this model is unable to explain."
   ]
  },
  {
   "cell_type": "markdown",
   "metadata": {
    "_uuid": "a9f1c4e7245673932e604b4aa3a5cac748809d3d"
   },
   "source": [
    "As you can see, the regression line is a pretty good fit to the data"
   ]
  },
  {
   "cell_type": "markdown",
   "metadata": {
    "_uuid": "70d9188db6c5b404c66c0a1bc2b9002a86121318"
   },
   "source": [
    "### Predictions on the Test Set"
   ]
  },
  {
   "cell_type": "markdown",
   "metadata": {
    "_uuid": "a88d571a4e726470bb1af84b6197e7065bcd23d4"
   },
   "source": [
    "Now that you have fitted a regression line on your train dataset, it's time to make some predictions on the test data. For this, you first need to add a constant to the `X_test` data like you did for `X_train` and then you can simply go on and predict the y values corresponding to `X_test` using the `predict` attribute of the fitted regression line."
   ]
  },
  {
   "cell_type": "code",
   "execution_count": 25,
   "metadata": {
    "_uuid": "f0bed7ce820292dceee1c3b00b9ecbcb9fdbbd37",
    "execution": {
     "iopub.execute_input": "2023-04-17T06:50:32.840380Z",
     "iopub.status.busy": "2023-04-17T06:50:32.839789Z",
     "iopub.status.idle": "2023-04-17T06:50:32.849308Z",
     "shell.execute_reply": "2023-04-17T06:50:32.848490Z",
     "shell.execute_reply.started": "2023-04-17T06:50:32.840315Z"
    }
   },
   "outputs": [],
   "source": [
    "# Add a constant to X_test\n",
    "x_test_sm = sm.add_constant(x_test)\n",
    "\n",
    "# Predict the y values corresponding to X_test_sm\n",
    "y_pred = lr.predict(x_test_sm)"
   ]
  },
  {
   "cell_type": "code",
   "execution_count": 26,
   "metadata": {
    "_uuid": "0b64c5e3173c685b0715a93f0a77c759e90b2dff",
    "execution": {
     "iopub.execute_input": "2023-04-17T06:50:36.583449Z",
     "iopub.status.busy": "2023-04-17T06:50:36.583145Z",
     "iopub.status.idle": "2023-04-17T06:50:36.590684Z",
     "shell.execute_reply": "2023-04-17T06:50:36.589727Z",
     "shell.execute_reply.started": "2023-04-17T06:50:36.583401Z"
    }
   },
   "outputs": [
    {
     "data": {
      "text/plain": [
       "118    14.046013\n",
       "70     18.225333\n",
       "163    16.198306\n",
       "161    11.768454\n",
       "73     14.256687\n",
       "dtype: float64"
      ]
     },
     "execution_count": 26,
     "metadata": {},
     "output_type": "execute_result"
    }
   ],
   "source": [
    "y_pred.head()"
   ]
  },
  {
   "cell_type": "code",
   "execution_count": 27,
   "metadata": {
    "_uuid": "f67e3bf11f1ab0670339d4496a4b42df11d1b0cf",
    "execution": {
     "iopub.execute_input": "2023-04-17T06:50:40.452816Z",
     "iopub.status.busy": "2023-04-17T06:50:40.452401Z",
     "iopub.status.idle": "2023-04-17T06:50:40.458259Z",
     "shell.execute_reply": "2023-04-17T06:50:40.457126Z",
     "shell.execute_reply.started": "2023-04-17T06:50:40.452743Z"
    }
   },
   "outputs": [],
   "source": [
    "from sklearn.metrics import mean_squared_error\n",
    "from sklearn.metrics import r2_score"
   ]
  },
  {
   "cell_type": "markdown",
   "metadata": {
    "_uuid": "3d4c698357ac5a9b1dc5e82862c081a2843e8c2b"
   },
   "source": [
    "##### Looking at the RMSE"
   ]
  },
  {
   "cell_type": "code",
   "execution_count": 28,
   "metadata": {
    "_uuid": "58863bc73dfa751e6bade66b3b71f80be51d9ca6",
    "execution": {
     "iopub.execute_input": "2023-04-17T06:50:44.313636Z",
     "iopub.status.busy": "2023-04-17T06:50:44.313068Z",
     "iopub.status.idle": "2023-04-17T06:50:44.320752Z",
     "shell.execute_reply": "2023-04-17T06:50:44.319709Z",
     "shell.execute_reply.started": "2023-04-17T06:50:44.313559Z"
    }
   },
   "outputs": [
    {
     "data": {
      "text/plain": [
       "2.224281763448297"
      ]
     },
     "execution_count": 28,
     "metadata": {},
     "output_type": "execute_result"
    }
   ],
   "source": [
    "#Returns the mean squared error; we'll take a square root\n",
    "np.sqrt(mean_squared_error(y_test, y_pred))"
   ]
  },
  {
   "cell_type": "markdown",
   "metadata": {
    "_uuid": "ab9e84c7ccf6d83fd215ba8771cb0243a59bc88e"
   },
   "source": [
    "###### Checking the R-squared on the test set"
   ]
  },
  {
   "cell_type": "code",
   "execution_count": 29,
   "metadata": {
    "_uuid": "6ce19fc28741a4d2b558a377f2fd39c81abdb72e",
    "execution": {
     "iopub.execute_input": "2023-04-17T06:50:50.906479Z",
     "iopub.status.busy": "2023-04-17T06:50:50.906122Z",
     "iopub.status.idle": "2023-04-17T06:50:50.913418Z",
     "shell.execute_reply": "2023-04-17T06:50:50.912400Z",
     "shell.execute_reply.started": "2023-04-17T06:50:50.906407Z"
    }
   },
   "outputs": [
    {
     "data": {
      "text/plain": [
       "0.7939174796416559"
      ]
     },
     "execution_count": 29,
     "metadata": {},
     "output_type": "execute_result"
    }
   ],
   "source": [
    "r_squared = r2_score(y_test, y_pred)\n",
    "r_squared"
   ]
  },
  {
   "cell_type": "markdown",
   "metadata": {
    "_uuid": "743c7b8425082fbb0a6811f2405fb7a4c1fa5a1f"
   },
   "source": [
    "##### Visualizing the fit on the test set"
   ]
  },
  {
   "cell_type": "code",
   "execution_count": 30,
   "metadata": {
    "_uuid": "eb08ac34d4e148e3221adfe126072f108adbfa24",
    "execution": {
     "iopub.execute_input": "2023-04-17T06:51:19.820260Z",
     "iopub.status.busy": "2023-04-17T06:51:19.819975Z",
     "iopub.status.idle": "2023-04-17T06:51:20.103719Z",
     "shell.execute_reply": "2023-04-17T06:51:20.102188Z",
     "shell.execute_reply.started": "2023-04-17T06:51:19.820222Z"
    },
    "scrolled": true
   },
   "outputs": [
    {
     "data": {
      "image/png": "[encoded data removed]",
      "text/plain": [
       "<Figure size 432x288 with 1 Axes>"
      ]
     },
     "metadata": {},
     "output_type": "display_data"
    }
   ],
   "source": [
    "plt.scatter(x_test, y_test)\n",
    "plt.plot(x_test, 6.948 + 0.054 * x_test, 'r')\n",
    "plt.show()"
   ]
  },
  {
   "cell_type": "code",
   "execution_count": 31,
   "metadata": {},
   "outputs": [],
   "source": []
  }
 ],
 "metadata": {
  "kernelspec": {
   "display_name": "Python 3",
   "language": "python",
   "name": "python3"
  },
  "language_info": {
   "codemirror_mode": {
    "name": "ipython",
    "version": 3
   },
   "file_extension": ".py",
   "mimetype": "text/x-python",
   "name": "python",
   "nbconvert_exporter": "python",
   "pygments_lexer": "ipython3",
   "version": "3.6.4"
  }
 },
 "nbformat": 4,
 "nbformat_minor": 4
}
